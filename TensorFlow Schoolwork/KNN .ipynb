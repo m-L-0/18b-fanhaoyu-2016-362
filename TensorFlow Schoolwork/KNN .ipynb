{
 "cells": [
  {
   "cell_type": "code",
   "execution_count": 65,
   "metadata": {},
   "outputs": [],
   "source": [
    "import numpy as np\n",
    "import tensorflow as tf\n",
    "from sklearn.datasets import load_iris\n",
    "from sklearn.model_selection import train_test_split\n",
    "data = load_iris()\n",
    "#加载数据集,随机打乱\n",
    "Range = np.random.randint(0,150,150)\n",
    "X  = data ['data']\n",
    "Y  = data['target']\n",
    "X,Y = X[Range],Y[Range]\n"
   ]
  },
  {
   "cell_type": "code",
   "execution_count": 66,
   "metadata": {},
   "outputs": [],
   "source": [
    "#归一化数据\n",
    "X = np.array([[ (x-min(data))/(max(data)-min(data)) for x in data  ]   for data in X])"
   ]
  },
  {
   "cell_type": "code",
   "execution_count": 67,
   "metadata": {},
   "outputs": [
    {
     "name": "stdout",
     "output_type": "stream",
     "text": [
      "Test 0 Prediction: 0 True Class: 0\n",
      "Test 1 Prediction: 0 True Class: 0\n",
      "Test 2 Prediction: 0 True Class: 2\n",
      "Test 3 Prediction: 0 True Class: 1\n",
      "Test 4 Prediction: 0 True Class: 2\n",
      "Test 5 Prediction: 0 True Class: 0\n",
      "Test 6 Prediction: 0 True Class: 0\n",
      "Test 7 Prediction: 0 True Class: 0\n",
      "Test 8 Prediction: 0 True Class: 2\n",
      "Test 9 Prediction: 0 True Class: 1\n",
      "Test 10 Prediction: 0 True Class: 0\n",
      "Test 11 Prediction: 0 True Class: 0\n",
      "Test 12 Prediction: 0 True Class: 0\n",
      "Test 13 Prediction: 0 True Class: 1\n",
      "Test 14 Prediction: 0 True Class: 0\n",
      "Test 15 Prediction: 0 True Class: 0\n",
      "Test 16 Prediction: 0 True Class: 1\n",
      "Test 17 Prediction: 0 True Class: 2\n",
      "Test 18 Prediction: 0 True Class: 1\n",
      "Test 19 Prediction: 0 True Class: 0\n",
      "Test 20 Prediction: 0 True Class: 2\n",
      "Test 21 Prediction: 0 True Class: 0\n",
      "Test 22 Prediction: 0 True Class: 2\n",
      "Test 23 Prediction: 0 True Class: 2\n",
      "Test 24 Prediction: 0 True Class: 0\n",
      "Test 25 Prediction: 0 True Class: 1\n",
      "Test 26 Prediction: 0 True Class: 0\n",
      "Test 27 Prediction: 0 True Class: 2\n",
      "Test 28 Prediction: 0 True Class: 1\n",
      "Test 29 Prediction: 0 True Class: 2\n",
      "Acc: 100.0%\n"
     ]
    }
   ],
   "source": [
    "#确定k值\n",
    "k = 10\n",
    "\n",
    "Xtrain,Xtest,Ytrain,Ytest = train_test_split(X,Y,test_size=0.2,random_state=1)\n",
    "# 输入占位符\n",
    "X_train = tf.placeholder(\"float\", [None, 4])\n",
    "X_test = tf.placeholder(\"float\", [4])\n",
    "\n",
    "\n",
    "distance = tf.reduce_sum(tf.abs(tf.add(X_train, tf.negative(X_test))), reduction_indices=1)\n",
    "#计数正确预测的个数\n",
    "correct = 0\n",
    "init = tf.global_variables_initializer()\n",
    "with tf.Session() as sess:\n",
    "    sess.run(init)\n",
    "    # 开始测试\n",
    "    for i in range(len(Xtest)):\n",
    "        # 获取当前样本与各样本之间的距离\n",
    "        dis = sess.run(distance,feed_dict={X_train: Xtrain, X_test: Xtest[i, :]})\n",
    "        # 获取最近的k个样本\n",
    "        indexs = np.argsort(dis)[:k]\n",
    "        candidate_Y = Ytrain[indexs]\n",
    "        #投票表决\n",
    "        pred = np.argmax(np.bincount(candidate_Y))\n",
    "        print(\"Test\", i, \"Prediction:\", yy,\"True Class:\", Ytest[i])\n",
    "        # 如果分类正确，correct += 1\n",
    "        if Ytest[i] == pred:\n",
    "            correct += 1\n",
    "    acc = correct/len(Ytest)\n",
    "    print(\"Acc:\",\"{}%\".format(acc * 100))"
   ]
  },
  {
   "cell_type": "code",
   "execution_count": null,
   "metadata": {},
   "outputs": [],
   "source": []
  },
  {
   "cell_type": "code",
   "execution_count": null,
   "metadata": {},
   "outputs": [],
   "source": []
  }
 ],
 "metadata": {
  "kernelspec": {
   "display_name": "Python 3",
   "language": "python",
   "name": "python3"
  },
  "language_info": {
   "codemirror_mode": {
    "name": "ipython",
    "version": 3
   },
   "file_extension": ".py",
   "mimetype": "text/x-python",
   "name": "python",
   "nbconvert_exporter": "python",
   "pygments_lexer": "ipython3",
   "version": "3.6.5"
  }
 },
 "nbformat": 4,
 "nbformat_minor": 2
}
